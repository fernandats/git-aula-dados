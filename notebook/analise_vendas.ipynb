{
 "cells": [
  {
   "cell_type": "markdown",
   "id": "05c4f4d5",
   "metadata": {},
   "source": [
    "# 📊 Análise de Vendas"
   ]
  },
  {
   "cell_type": "code",
   "execution_count": null,
   "id": "6a1e111d",
   "metadata": {},
   "outputs": [],
   "source": [
    "import pandas as pd\n",
    "\n",
    "df = pd.read_csv('../dados/vendas.csv')\n",
    "df['Data'] = pd.to_datetime(df['Data'])\n",
    "df['Total'] = df['Quantidade'] * df['Preco']\n",
    "df.head()"
   ]
  },
  {
   "cell_type": "markdown",
   "id": "8f73680b",
   "metadata": {},
   "source": [
    "## 👇 Tarefa: Adicione sua análise abaixo"
   ]
  },
  {
   "cell_type": "code",
   "execution_count": null,
   "id": "517b814b",
   "metadata": {},
   "outputs": [],
   "source": [
    "# TODO: Exemplo de gráfico\n",
    "# df.groupby('Produto')['Total'].sum().plot(kind='bar')"
   ]
  }
 ],
 "metadata": {},
 "nbformat": 4,
 "nbformat_minor": 5
}