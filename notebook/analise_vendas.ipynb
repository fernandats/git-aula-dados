{
 "cells": [
  {
   "cell_type": "markdown",
   "id": "05c4f4d5",
   "metadata": {},
   "source": [
    "# 📊 Análise de Vendas"
   ]
  },
  {
   "cell_type": "code",
   "execution_count": 6,
   "id": "6a1e111d",
   "metadata": {},
   "outputs": [
    {
     "data": {
      "text/html": [
       "<div>\n",
       "<style scoped>\n",
       "    .dataframe tbody tr th:only-of-type {\n",
       "        vertical-align: middle;\n",
       "    }\n",
       "\n",
       "    .dataframe tbody tr th {\n",
       "        vertical-align: top;\n",
       "    }\n",
       "\n",
       "    .dataframe thead th {\n",
       "        text-align: right;\n",
       "    }\n",
       "</style>\n",
       "<table border=\"1\" class=\"dataframe\">\n",
       "  <thead>\n",
       "    <tr style=\"text-align: right;\">\n",
       "      <th></th>\n",
       "      <th>Data</th>\n",
       "      <th>Produto</th>\n",
       "      <th>Quantidade</th>\n",
       "      <th>Preco</th>\n",
       "      <th>Total</th>\n",
       "    </tr>\n",
       "  </thead>\n",
       "  <tbody>\n",
       "    <tr>\n",
       "      <th>0</th>\n",
       "      <td>2025-07-01</td>\n",
       "      <td>Produto A</td>\n",
       "      <td>10</td>\n",
       "      <td>15.5</td>\n",
       "      <td>155.0</td>\n",
       "    </tr>\n",
       "    <tr>\n",
       "      <th>1</th>\n",
       "      <td>2025-07-01</td>\n",
       "      <td>Produto B</td>\n",
       "      <td>5</td>\n",
       "      <td>42.0</td>\n",
       "      <td>210.0</td>\n",
       "    </tr>\n",
       "    <tr>\n",
       "      <th>2</th>\n",
       "      <td>2025-07-02</td>\n",
       "      <td>Produto A</td>\n",
       "      <td>7</td>\n",
       "      <td>15.5</td>\n",
       "      <td>108.5</td>\n",
       "    </tr>\n",
       "    <tr>\n",
       "      <th>3</th>\n",
       "      <td>2025-07-02</td>\n",
       "      <td>Produto C</td>\n",
       "      <td>2</td>\n",
       "      <td>90.0</td>\n",
       "      <td>180.0</td>\n",
       "    </tr>\n",
       "  </tbody>\n",
       "</table>\n",
       "</div>"
      ],
      "text/plain": [
       "        Data    Produto  Quantidade  Preco  Total\n",
       "0 2025-07-01  Produto A          10   15.5  155.0\n",
       "1 2025-07-01  Produto B           5   42.0  210.0\n",
       "2 2025-07-02  Produto A           7   15.5  108.5\n",
       "3 2025-07-02  Produto C           2   90.0  180.0"
      ]
     },
     "execution_count": 6,
     "metadata": {},
     "output_type": "execute_result"
    }
   ],
   "source": [
    "import pandas as pd\n",
    "import matplotlib.pyplot as plt\n",
    "\n",
    "df = pd.read_csv('../dados/vendas.csv')\n",
    "df['Data'] = pd.to_datetime(df['Data'])\n",
    "df['Total'] = df['Quantidade'] * df['Preco']\n",
    "df.head()"
   ]
  },
  {
   "cell_type": "markdown",
   "id": "8f73680b",
   "metadata": {},
   "source": [
    "## 👇 Tarefa: Adicione sua análise abaixo"
   ]
  },
  {
   "cell_type": "code",
   "execution_count": 7,
   "id": "517b814b",
   "metadata": {},
   "outputs": [
    {
     "data": {
      "image/png": "[encoded data removed]",
      "text/plain": [
       "<Figure size 640x480 with 1 Axes>"
      ]
     },
     "metadata": {},
     "output_type": "display_data"
    }
   ],
   "source": [
    "# TODO: Exemplo de gráfico\n",
    "df.groupby('Produto')['Total'].sum().plot(kind='bar', title=\"Vendas por Produto\")\n",
    "plt.ylabel(\"Vendas\");"
   ]
  },
  {
   "cell_type": "code",
   "execution_count": null,
   "id": "7e5c1f4b-348d-4a10-b137-e75170d5a440",
   "metadata": {},
   "outputs": [],
   "source": []
  }
 ],
 "metadata": {
  "kernelspec": {
   "display_name": "Python [conda env:base] *",
   "language": "python",
   "name": "conda-base-py"
  },
  "language_info": {
   "codemirror_mode": {
    "name": "ipython",
    "version": 3
   },
   "file_extension": ".py",
   "mimetype": "text/x-python",
   "name": "python",
   "nbconvert_exporter": "python",
   "pygments_lexer": "ipython3",
   "version": "3.12.7"
  }
 },
 "nbformat": 4,
 "nbformat_minor": 5
}
